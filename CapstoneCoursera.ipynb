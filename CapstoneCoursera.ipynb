{
 "cells": [
  {
   "cell_type": "markdown",
   "metadata": {},
   "source": [
    "# London Boroughs and the Crimes \n",
    "### Capstone Project - Coursera\n"
   ]
  },
  {
   "cell_type": "markdown",
   "metadata": {},
   "source": [
    "\n",
    "##### Introduction\n",
    "\n",
    "London, the largest of England, has diverse range of people and cultures. London has 32 districts, commonly known as London Boroughs. As a resident of this city, I decided to use London in my project. In this project, I explore the different boroughs and the total crimes in the areas. Such information is always useful for people looking to relocate to London. We always tend to see the safer areas to raise our family. Further I explore the neighbourhoods in the safest borough and cluster the neighbourhoods using K-means clustering. \n",
    "\n",
    "##### Data\n",
    "\n",
    "I have used the data from https://data.london.gov.uk/dataset/recorded_crime_summary. The data provides the number of crimes in each borough and the various crime categories between June 2017 to May 2019. A csv file was provided in the website. \n",
    "\n",
    "I have scraped the geographical co-ordinates of the London Boroughs from https://en.wikipedia.org/wiki/List_of_London_boroughs using Beautiful soup.\n",
    "\n",
    "I used Foursquare API to get the most common venues of the safest borough of London. \n",
    "\n"
   ]
  },
  {
   "cell_type": "code",
   "execution_count": null,
   "metadata": {},
   "outputs": [],
   "source": []
  }
 ],
 "metadata": {
  "kernelspec": {
   "display_name": "Python 3",
   "language": "python",
   "name": "python3"
  },
  "language_info": {
   "codemirror_mode": {
    "name": "ipython",
    "version": 3
   },
   "file_extension": ".py",
   "mimetype": "text/x-python",
   "name": "python",
   "nbconvert_exporter": "python",
   "pygments_lexer": "ipython3",
   "version": "3.7.3"
  }
 },
 "nbformat": 4,
 "nbformat_minor": 2
}
